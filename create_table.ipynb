{
 "cells": [
  {
   "cell_type": "code",
   "execution_count": 9,
   "metadata": {},
   "outputs": [],
   "source": [
    "import psycopg2\n",
    "\n",
    "conn = psycopg2.connect(database = \"testdb\", user = \"test\", password = \"test\", host = \"localhost\", port = \"5432\")"
   ]
  },
  {
   "cell_type": "code",
   "execution_count": 10,
   "metadata": {},
   "outputs": [],
   "source": [
    "cur = conn.cursor()\n",
    "\n",
    "sql_statement = \\\n",
    "\"\"\"\n",
    "DROP TABLE IF EXISTS test;\n",
    "CREATE TABLE test (\n",
    "    id          SERIAL PRIMARY KEY,\n",
    "    operator    VARCHAR(100) NOT NULL,\n",
    "    pc          VARCHAR(100) NOT NULL,\n",
    "    v_tp1       INTEGER NOT NULL,\n",
    "    v_tp2       INTEGER NOT NULL,\n",
    "    v_tp3       INTEGER NOT NULL,\n",
    "    v_tp4       INTEGER NOT NULL,\n",
    "    v_tp5       INTEGER NOT NULL,\n",
    "    test_result VARCHAR(100) NOT NULL\n",
    ");\n",
    "\"\"\"\n",
    "\n",
    "try:\n",
    "    cur.execute(sql_statement)\n",
    "except:\n",
    "    print(\"I can't drop our test database!\")\n",
    "\n",
    "conn.commit() # <--- makes sure the change is shown in the database\n",
    "conn.close()\n",
    "cur.close()"
   ]
  },
  {
   "cell_type": "code",
   "execution_count": null,
   "metadata": {},
   "outputs": [],
   "source": []
  }
 ],
 "metadata": {
  "kernelspec": {
   "display_name": "Python 3",
   "language": "python",
   "name": "python3"
  },
  "language_info": {
   "codemirror_mode": {
    "name": "ipython",
    "version": 3
   },
   "file_extension": ".py",
   "mimetype": "text/x-python",
   "name": "python",
   "nbconvert_exporter": "python",
   "pygments_lexer": "ipython3",
   "version": "3.10.6"
  },
  "orig_nbformat": 4
 },
 "nbformat": 4,
 "nbformat_minor": 2
}
